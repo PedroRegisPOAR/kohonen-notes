{
 "cells": [
  {
   "cell_type": "code",
   "execution_count": 24,
   "metadata": {},
   "outputs": [],
   "source": [
    "import numpy as np"
   ]
  },
  {
   "cell_type": "code",
   "execution_count": 23,
   "metadata": {},
   "outputs": [
    {
     "data": {
      "text/plain": [
       "array([[0.2, 0.6, 0.5, 0.9],\n",
       "       [0.8, 0.4, 0.7, 0.3]])"
      ]
     },
     "execution_count": 23,
     "metadata": {},
     "output_type": "execute_result"
    }
   ],
   "source": [
    "\n",
    "w = [[0.2, 0.8],\n",
    "     [0.6, 0.4],\n",
    "     [0.5, 0.7],\n",
    "     [0.9, 0.3]\n",
    "    ]\n",
    "\n",
    "w = [[0.2, 0.6, 0.5,0.9], [0.8, 0.4, 0.7, 0.3]]\n",
    "w = np.array(w)\n",
    "w"
   ]
  },
  {
   "cell_type": "code",
   "execution_count": 82,
   "metadata": {},
   "outputs": [
    {
     "data": {
      "text/plain": [
       "array([[1, 1, 0, 0],\n",
       "       [0, 0, 0, 1],\n",
       "       [1, 0, 0, 0],\n",
       "       [0, 0, 1, 1]])"
      ]
     },
     "execution_count": 82,
     "metadata": {},
     "output_type": "execute_result"
    }
   ],
   "source": [
    "x = [[1,1,0,0],\n",
    "     [0,0,0,1],\n",
    "     [1,0,0,0],\n",
    "     [0,0,1,1]]\n",
    "\n",
    "x = np.array(x)\n",
    "\n",
    "x"
   ]
  },
  {
   "cell_type": "code",
   "execution_count": 86,
   "metadata": {},
   "outputs": [
    {
     "data": {
      "text/plain": [
       "1"
      ]
     },
     "execution_count": 86,
     "metadata": {},
     "output_type": "execute_result"
    }
   ],
   "source": [
    "def index_best_best_fit(x, w, p=2):    \n",
    "    distances = np.zeros((w.shape[0]))\n",
    "    \n",
    "    for i in range(len(w)):\n",
    "        distances[i] = np.linalg.norm(x - w[i], ord=2)**2\n",
    "    \n",
    "    return np.argmin(distances)\n",
    "\n",
    "\n",
    "index_best_best_fit(x[0], w)"
   ]
  },
  {
   "cell_type": "code",
   "execution_count": 95,
   "metadata": {},
   "outputs": [
    {
     "name": "stdout",
     "output_type": "stream",
     "text": [
      "[1 1 0 0] 2\n",
      "[0 0 0 1] 1\n",
      "[1 0 0 0] 2\n",
      "[0 0 1 1] 1\n"
     ]
    }
   ],
   "source": [
    "for i in range(len(x)):\n",
    "    print(x[i], index_best_best_fit(x[i], w)+1)"
   ]
  },
  {
   "cell_type": "code",
   "execution_count": 107,
   "metadata": {},
   "outputs": [
    {
     "data": {
      "text/plain": [
       "array([[0.032, 0.968],\n",
       "       [0.096, 0.304],\n",
       "       [0.68 , 0.112],\n",
       "       [0.984, 0.048]])"
      ]
     },
     "execution_count": 107,
     "metadata": {},
     "output_type": "execute_result"
    }
   ],
   "source": [
    "w = [[0.2, 0.6, 0.5,0.9], [0.8, 0.4, 0.7, 0.3]]\n",
    "w = np.array(w)\n",
    "\n",
    "\n",
    "def adjust(x, w, alpha):\n",
    "    \n",
    "    for k in range(len(x)):\n",
    "        i = index_best_best_fit(x[k], w)\n",
    "        w[i] = w[i] + alpha*(x[k] - w[i])\n",
    "        \n",
    "    #return w \n",
    "\n",
    "alpha = 0.6\n",
    "adjust(x, w, alpha)\n",
    "\n",
    "w.T\n"
   ]
  },
  {
   "cell_type": "code",
   "execution_count": 116,
   "metadata": {},
   "outputs": [
    {
     "data": {
      "text/plain": [
       "array([[4.63421213e-14, 1.00000000e+00],\n",
       "       [1.39026364e-13, 4.13935848e-01],\n",
       "       [5.86064152e-01, 1.62197425e-13],\n",
       "       [1.00000000e+00, 6.95131820e-14]])"
      ]
     },
     "execution_count": 116,
     "metadata": {},
     "output_type": "execute_result"
    }
   ],
   "source": [
    "def loop(x, w, alpha, n):    \n",
    "    for _ in range(n):\n",
    "        adjust(x, w, alpha)\n",
    "        alpha = alpha/2\n",
    "        \n",
    "loop(x, w, 0.6, 100)        \n",
    "\n",
    "w.T"
   ]
  },
  {
   "cell_type": "code",
   "execution_count": 118,
   "metadata": {},
   "outputs": [
    {
     "name": "stdout",
     "output_type": "stream",
     "text": [
      "[1 1 0 0] 2\n",
      "[0 0 0 1] 1\n",
      "[1 0 0 0] 2\n",
      "[0 0 1 1] 1\n"
     ]
    }
   ],
   "source": [
    "\n",
    "for i in range(4):\n",
    "    print(x[i], index_best_best_fit(x[i], w)+1)\n",
    "\n"
   ]
  }
 ],
 "metadata": {
  "kernelspec": {
   "display_name": "Python 3",
   "language": "python",
   "name": "python3"
  },
  "language_info": {
   "codemirror_mode": {
    "name": "ipython",
    "version": 3
   },
   "file_extension": ".py",
   "mimetype": "text/x-python",
   "name": "python",
   "nbconvert_exporter": "python",
   "pygments_lexer": "ipython3",
   "version": "3.6.6"
  }
 },
 "nbformat": 4,
 "nbformat_minor": 2
}
