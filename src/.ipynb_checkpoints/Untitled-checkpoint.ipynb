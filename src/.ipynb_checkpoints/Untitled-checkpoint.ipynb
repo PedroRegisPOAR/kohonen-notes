{
 "cells": [
  {
   "cell_type": "markdown",
   "metadata": {},
   "source": [
    "\n",
    "\n",
    "https://medium.com/@navdeepsingh_2336/self-organizing-maps-for-machine-learning-algorithms-ad256a395fc5"
   ]
  },
  {
   "cell_type": "code",
   "execution_count": 1,
   "metadata": {},
   "outputs": [],
   "source": [
    "import numpy as np\n",
    "from sklearn.datasets import fetch_olivetti_faces"
   ]
  },
  {
   "cell_type": "code",
   "execution_count": 3,
   "metadata": {},
   "outputs": [
    {
     "name": "stdout",
     "output_type": "stream",
     "text": [
      "downloading Olivetti faces from https://ndownloader.figshare.com/files/5976027 to /root/scikit_learn_data\n"
     ]
    }
   ],
   "source": [
    "faces = fetch_olivetti_faces(shuffle=True)"
   ]
  },
  {
   "cell_type": "code",
   "execution_count": 5,
   "metadata": {},
   "outputs": [
    {
     "data": {
      "text/plain": [
       "['DESCR', 'data', 'images', 'target']"
      ]
     },
     "execution_count": 5,
     "metadata": {},
     "output_type": "execute_result"
    }
   ],
   "source": [
    "dir(faces)"
   ]
  },
  {
   "cell_type": "code",
   "execution_count": 10,
   "metadata": {},
   "outputs": [
    {
     "name": "stdout",
     "output_type": "stream",
     "text": [
      ".. _covtype_dataset:\n",
      "\n",
      "Forest covertypes\n",
      "-----------------\n",
      "\n",
      "The samples in this dataset correspond to 30×30m patches of forest in the US,\n",
      "collected for the task of predicting each patch's cover type,\n",
      "i.e. the dominant species of tree.\n",
      "There are seven covertypes, making this a multiclass classification problem.\n",
      "Each sample has 54 features, described on the\n",
      "`dataset's homepage <http://archive.ics.uci.edu/ml/datasets/Covertype>`__.\n",
      "Some of the features are boolean indicators,\n",
      "while others are discrete or continuous measurements.\n",
      "\n",
      "**Data Set Characteristics:**\n",
      "\n",
      "    =================   ============\n",
      "    Classes                        7\n",
      "    Samples total             581012\n",
      "    Dimensionality                54\n",
      "    Features                     int\n",
      "    =================   ============\n",
      "\n",
      ":func:`sklearn.datasets.fetch_covtype` will load the covertype dataset;\n",
      "it returns a dictionary-like object\n",
      "with the feature matrix in the ``data`` member\n",
      "and the target values in ``target``.\n",
      "The dataset will be downloaded from the web if necessary.\n",
      "\n"
     ]
    }
   ],
   "source": [
    "print(faces['DESCR'])"
   ]
  },
  {
   "cell_type": "code",
   "execution_count": 4,
   "metadata": {},
   "outputs": [
    {
     "data": {
      "text/plain": [
       "array([[0.6694215 , 0.6363636 , 0.6487603 , ..., 0.08677686, 0.08264463,\n",
       "        0.07438017],\n",
       "       [0.76859504, 0.75619835, 0.74380165, ..., 0.48347107, 0.6280992 ,\n",
       "        0.6528926 ],\n",
       "       [0.37190083, 0.34710744, 0.3677686 , ..., 0.7066116 , 0.6818182 ,\n",
       "        0.5495868 ],\n",
       "       ...,\n",
       "       [0.55785125, 0.60330576, 0.6570248 , ..., 0.17768595, 0.20661157,\n",
       "        0.19421488],\n",
       "       [0.5206612 , 0.5206612 , 0.53305787, ..., 0.46694216, 0.43801653,\n",
       "        0.43801653],\n",
       "       [0.3966942 , 0.3677686 , 0.3429752 , ..., 0.37190083, 0.26859504,\n",
       "        0.29752067]], dtype=float32)"
      ]
     },
     "execution_count": 4,
     "metadata": {},
     "output_type": "execute_result"
    }
   ],
   "source": [
    "faces['data']"
   ]
  },
  {
   "cell_type": "code",
   "execution_count": 14,
   "metadata": {},
   "outputs": [
    {
     "data": {
      "text/plain": [
       "array([[0.66942149, 0.63636363, 0.64876032, ..., 0.08677686, 0.08264463,\n",
       "        0.07438017],\n",
       "       [0.76859504, 0.75619835, 0.74380165, ..., 0.48347107, 0.6280992 ,\n",
       "        0.65289259],\n",
       "       [0.37190083, 0.34710744, 0.36776859, ..., 0.70661157, 0.68181819,\n",
       "        0.54958677],\n",
       "       ...,\n",
       "       [0.54545456, 0.61157024, 0.6404959 , ..., 0.17355372, 0.17355372,\n",
       "        0.18181819],\n",
       "       [0.66115701, 0.74793386, 0.77685952, ..., 0.08677686, 0.10743801,\n",
       "        0.12809917],\n",
       "       [0.21900827, 0.28099173, 0.53719008, ..., 0.20247933, 0.17768595,\n",
       "        0.22727273]])"
      ]
     },
     "execution_count": 14,
     "metadata": {},
     "output_type": "execute_result"
    }
   ],
   "source": [
    "Xcomplete = faces['data'].astype(np.float64) / np.max(faces['data'])\n",
    "X = Xcomplete[0:100]\n",
    "X"
   ]
  },
  {
   "cell_type": "code",
   "execution_count": 12,
   "metadata": {},
   "outputs": [],
   "source": [
    "np.random.shuffle(Xcomplete)"
   ]
  },
  {
   "cell_type": "code",
   "execution_count": 15,
   "metadata": {},
   "outputs": [],
   "source": [
    "nb_iterations = 5000\n",
    "nb_startup_iterations = 500\n",
    "pattern_length = 64 * 64\n",
    "pattern_width = pattern_height = 64\n",
    "eta0 = 1.0\n",
    "sigma0 = 3.0\n",
    "tau = 100.0\n",
    "matrix_side = 5"
   ]
  },
  {
   "cell_type": "code",
   "execution_count": 21,
   "metadata": {},
   "outputs": [
    {
     "data": {
      "text/plain": [
       "array([[[ 1.76323776e-02,  9.88162486e-02,  1.48479632e-01, ...,\n",
       "         -1.51687007e-01,  6.82103724e-03, -1.23653738e-01],\n",
       "        [ 1.16187409e-01,  1.85912050e-01,  2.14770177e-02, ...,\n",
       "          4.80493726e-02, -1.19956780e-01,  1.12151500e-01],\n",
       "        [ 2.06925984e-02, -5.88761304e-02,  1.49958799e-01, ...,\n",
       "          2.79657339e-02,  1.08726901e-01,  7.70738747e-02],\n",
       "        [ 6.72930575e-02, -1.30258933e-01, -1.18947384e-01, ...,\n",
       "          1.23582907e-01,  1.45621271e-02, -2.95334086e-01],\n",
       "        [ 1.04570792e-01, -1.14285669e-01,  6.61160978e-02, ...,\n",
       "          7.12144578e-02,  4.01661345e-03,  6.89424410e-02]],\n",
       "\n",
       "       [[ 5.34264881e-02,  6.20601691e-02, -1.61855395e-01, ...,\n",
       "         -1.67300958e-01, -2.10178545e-02, -6.12285930e-02],\n",
       "        [ 1.27875914e-01, -7.24014782e-03, -3.10392172e-02, ...,\n",
       "          2.26633836e-02, -1.62397010e-01,  1.93769130e-01],\n",
       "        [ 1.60572668e-01, -1.02159911e-01,  1.05777644e-01, ...,\n",
       "          1.59230343e-01, -8.58322142e-03, -1.02768979e-01],\n",
       "        [-1.50480301e-01,  1.37522933e-02,  2.37100731e-02, ...,\n",
       "         -1.44340305e-01, -1.37758624e-01,  5.02952386e-02],\n",
       "        [ 2.45914188e-04,  2.69915110e-02,  1.75261449e-01, ...,\n",
       "          6.19088998e-02, -1.17125145e-01,  1.45891171e-02]],\n",
       "\n",
       "       [[-1.82809283e-01, -2.46911988e-02,  4.56700106e-02, ...,\n",
       "         -4.31420040e-03,  1.26717710e-02, -7.69161859e-02],\n",
       "        [-1.50065460e-01,  1.76294315e-02,  9.08241176e-02, ...,\n",
       "         -9.88140624e-02,  1.29392589e-02, -1.06461185e-01],\n",
       "        [ 8.39689174e-02, -1.12121595e-01, -1.17812509e-01, ...,\n",
       "          2.01603998e-01,  1.53882181e-01, -9.41324903e-06],\n",
       "        [-7.48940334e-02,  4.32543580e-03,  8.95750829e-03, ...,\n",
       "         -2.10397237e-02, -2.44730404e-02, -8.03057180e-02],\n",
       "        [-4.52847780e-04,  8.83293559e-02,  1.10498015e-01, ...,\n",
       "         -5.53795246e-02, -1.57976103e-01,  1.52372493e-01]],\n",
       "\n",
       "       [[ 3.57153605e-02,  6.52936052e-02,  7.56226434e-02, ...,\n",
       "         -5.50143029e-02, -4.11847239e-02,  6.47792336e-02],\n",
       "        [-4.98845862e-02,  2.73412438e-02, -2.69986705e-02, ...,\n",
       "          5.24714856e-02,  5.99624889e-02,  7.90299071e-02],\n",
       "        [ 4.69800038e-02,  1.58969777e-02, -1.48546494e-01, ...,\n",
       "         -4.48848831e-02,  8.25883096e-02,  3.90835706e-02],\n",
       "        [ 1.89844348e-01, -7.79254309e-02, -1.81448189e-02, ...,\n",
       "         -1.66500860e-01,  1.07477916e-02,  4.60135474e-03],\n",
       "        [-1.33102650e-01, -1.36707363e-01, -9.15875228e-02, ...,\n",
       "         -6.21562540e-02, -9.13717859e-02,  5.79198950e-03]],\n",
       "\n",
       "       [[ 1.04526478e-01, -1.21080647e-01, -5.73497197e-02, ...,\n",
       "         -5.88143264e-02, -3.09422270e-02,  1.82276613e-01],\n",
       "        [-2.64661280e-01, -6.75414617e-02,  4.99401904e-02, ...,\n",
       "          9.96266606e-02,  1.45841163e-01, -3.61932014e-02],\n",
       "        [-1.32959740e-01, -1.32861583e-01,  1.25615232e-01, ...,\n",
       "         -6.80699478e-03,  8.24091308e-02, -1.34037706e-01],\n",
       "        [-7.11926454e-02, -8.84534694e-02, -3.17870918e-01, ...,\n",
       "          1.01918639e-01,  1.91494155e-01,  5.28831496e-02],\n",
       "        [-7.26342502e-02, -1.12584967e-01,  7.83403671e-02, ...,\n",
       "          6.81248820e-03, -5.02808769e-02, -7.82514504e-02]]])"
      ]
     },
     "execution_count": 21,
     "metadata": {},
     "output_type": "execute_result"
    }
   ],
   "source": [
    "W = np.random.normal(0, 0.1, size=(matrix_side, matrix_side, pattern_length))\n",
    "W"
   ]
  },
  {
   "cell_type": "code",
   "execution_count": 22,
   "metadata": {},
   "outputs": [],
   "source": [
    "def winning_unit(xt):\n",
    "    distances = np.linalg.norm(W - xt, ord=2, axis=2)\n",
    "    max_activation_unit = np.argmax(distances)\n",
    "    return int(np.floor(max_activation_unit / matrix_side)), max_activation_unit % matrix_side"
   ]
  },
  {
   "cell_type": "code",
   "execution_count": 25,
   "metadata": {},
   "outputs": [],
   "source": [
    "def eta(t):\n",
    "    return eta0 * np.exp(-float(t) / tau)\n",
    "\n",
    "def sigma(t):\n",
    "    return float(sigma0) * np.exp(-float(t) / tau)"
   ]
  },
  {
   "cell_type": "code",
   "execution_count": 26,
   "metadata": {},
   "outputs": [
    {
     "data": {
      "text/plain": [
       "array([[[[0., 0., 0., 0., 0.],\n",
       "         [0., 0., 0., 0., 0.],\n",
       "         [0., 0., 0., 0., 0.],\n",
       "         [0., 0., 0., 0., 0.],\n",
       "         [0., 0., 0., 0., 0.]],\n",
       "\n",
       "        [[0., 0., 0., 0., 0.],\n",
       "         [0., 0., 0., 0., 0.],\n",
       "         [0., 0., 0., 0., 0.],\n",
       "         [0., 0., 0., 0., 0.],\n",
       "         [0., 0., 0., 0., 0.]],\n",
       "\n",
       "        [[0., 0., 0., 0., 0.],\n",
       "         [0., 0., 0., 0., 0.],\n",
       "         [0., 0., 0., 0., 0.],\n",
       "         [0., 0., 0., 0., 0.],\n",
       "         [0., 0., 0., 0., 0.]],\n",
       "\n",
       "        [[0., 0., 0., 0., 0.],\n",
       "         [0., 0., 0., 0., 0.],\n",
       "         [0., 0., 0., 0., 0.],\n",
       "         [0., 0., 0., 0., 0.],\n",
       "         [0., 0., 0., 0., 0.]],\n",
       "\n",
       "        [[0., 0., 0., 0., 0.],\n",
       "         [0., 0., 0., 0., 0.],\n",
       "         [0., 0., 0., 0., 0.],\n",
       "         [0., 0., 0., 0., 0.],\n",
       "         [0., 0., 0., 0., 0.]]],\n",
       "\n",
       "\n",
       "       [[[0., 0., 0., 0., 0.],\n",
       "         [0., 0., 0., 0., 0.],\n",
       "         [0., 0., 0., 0., 0.],\n",
       "         [0., 0., 0., 0., 0.],\n",
       "         [0., 0., 0., 0., 0.]],\n",
       "\n",
       "        [[0., 0., 0., 0., 0.],\n",
       "         [0., 0., 0., 0., 0.],\n",
       "         [0., 0., 0., 0., 0.],\n",
       "         [0., 0., 0., 0., 0.],\n",
       "         [0., 0., 0., 0., 0.]],\n",
       "\n",
       "        [[0., 0., 0., 0., 0.],\n",
       "         [0., 0., 0., 0., 0.],\n",
       "         [0., 0., 0., 0., 0.],\n",
       "         [0., 0., 0., 0., 0.],\n",
       "         [0., 0., 0., 0., 0.]],\n",
       "\n",
       "        [[0., 0., 0., 0., 0.],\n",
       "         [0., 0., 0., 0., 0.],\n",
       "         [0., 0., 0., 0., 0.],\n",
       "         [0., 0., 0., 0., 0.],\n",
       "         [0., 0., 0., 0., 0.]],\n",
       "\n",
       "        [[0., 0., 0., 0., 0.],\n",
       "         [0., 0., 0., 0., 0.],\n",
       "         [0., 0., 0., 0., 0.],\n",
       "         [0., 0., 0., 0., 0.],\n",
       "         [0., 0., 0., 0., 0.]]],\n",
       "\n",
       "\n",
       "       [[[0., 0., 0., 0., 0.],\n",
       "         [0., 0., 0., 0., 0.],\n",
       "         [0., 0., 0., 0., 0.],\n",
       "         [0., 0., 0., 0., 0.],\n",
       "         [0., 0., 0., 0., 0.]],\n",
       "\n",
       "        [[0., 0., 0., 0., 0.],\n",
       "         [0., 0., 0., 0., 0.],\n",
       "         [0., 0., 0., 0., 0.],\n",
       "         [0., 0., 0., 0., 0.],\n",
       "         [0., 0., 0., 0., 0.]],\n",
       "\n",
       "        [[0., 0., 0., 0., 0.],\n",
       "         [0., 0., 0., 0., 0.],\n",
       "         [0., 0., 0., 0., 0.],\n",
       "         [0., 0., 0., 0., 0.],\n",
       "         [0., 0., 0., 0., 0.]],\n",
       "\n",
       "        [[0., 0., 0., 0., 0.],\n",
       "         [0., 0., 0., 0., 0.],\n",
       "         [0., 0., 0., 0., 0.],\n",
       "         [0., 0., 0., 0., 0.],\n",
       "         [0., 0., 0., 0., 0.]],\n",
       "\n",
       "        [[0., 0., 0., 0., 0.],\n",
       "         [0., 0., 0., 0., 0.],\n",
       "         [0., 0., 0., 0., 0.],\n",
       "         [0., 0., 0., 0., 0.],\n",
       "         [0., 0., 0., 0., 0.]]],\n",
       "\n",
       "\n",
       "       [[[0., 0., 0., 0., 0.],\n",
       "         [0., 0., 0., 0., 0.],\n",
       "         [0., 0., 0., 0., 0.],\n",
       "         [0., 0., 0., 0., 0.],\n",
       "         [0., 0., 0., 0., 0.]],\n",
       "\n",
       "        [[0., 0., 0., 0., 0.],\n",
       "         [0., 0., 0., 0., 0.],\n",
       "         [0., 0., 0., 0., 0.],\n",
       "         [0., 0., 0., 0., 0.],\n",
       "         [0., 0., 0., 0., 0.]],\n",
       "\n",
       "        [[0., 0., 0., 0., 0.],\n",
       "         [0., 0., 0., 0., 0.],\n",
       "         [0., 0., 0., 0., 0.],\n",
       "         [0., 0., 0., 0., 0.],\n",
       "         [0., 0., 0., 0., 0.]],\n",
       "\n",
       "        [[0., 0., 0., 0., 0.],\n",
       "         [0., 0., 0., 0., 0.],\n",
       "         [0., 0., 0., 0., 0.],\n",
       "         [0., 0., 0., 0., 0.],\n",
       "         [0., 0., 0., 0., 0.]],\n",
       "\n",
       "        [[0., 0., 0., 0., 0.],\n",
       "         [0., 0., 0., 0., 0.],\n",
       "         [0., 0., 0., 0., 0.],\n",
       "         [0., 0., 0., 0., 0.],\n",
       "         [0., 0., 0., 0., 0.]]],\n",
       "\n",
       "\n",
       "       [[[0., 0., 0., 0., 0.],\n",
       "         [0., 0., 0., 0., 0.],\n",
       "         [0., 0., 0., 0., 0.],\n",
       "         [0., 0., 0., 0., 0.],\n",
       "         [0., 0., 0., 0., 0.]],\n",
       "\n",
       "        [[0., 0., 0., 0., 0.],\n",
       "         [0., 0., 0., 0., 0.],\n",
       "         [0., 0., 0., 0., 0.],\n",
       "         [0., 0., 0., 0., 0.],\n",
       "         [0., 0., 0., 0., 0.]],\n",
       "\n",
       "        [[0., 0., 0., 0., 0.],\n",
       "         [0., 0., 0., 0., 0.],\n",
       "         [0., 0., 0., 0., 0.],\n",
       "         [0., 0., 0., 0., 0.],\n",
       "         [0., 0., 0., 0., 0.]],\n",
       "\n",
       "        [[0., 0., 0., 0., 0.],\n",
       "         [0., 0., 0., 0., 0.],\n",
       "         [0., 0., 0., 0., 0.],\n",
       "         [0., 0., 0., 0., 0.],\n",
       "         [0., 0., 0., 0., 0.]],\n",
       "\n",
       "        [[0., 0., 0., 0., 0.],\n",
       "         [0., 0., 0., 0., 0.],\n",
       "         [0., 0., 0., 0., 0.],\n",
       "         [0., 0., 0., 0., 0.],\n",
       "         [0., 0., 0., 0., 0.]]]])"
      ]
     },
     "execution_count": 26,
     "metadata": {},
     "output_type": "execute_result"
    }
   ],
   "source": [
    "precomputed_distances = np.zeros((matrix_side, matrix_side, matrix_side, matrix_side))\n",
    "precomputed_distances"
   ]
  },
  {
   "cell_type": "code",
   "execution_count": 27,
   "metadata": {},
   "outputs": [],
   "source": [
    "for i in range(matrix_side):\n",
    "    for j in range(matrix_side):\n",
    "        for k in range(matrix_side):\n",
    "            for t in range(matrix_side):\n",
    "                precomputed_distances[i, j, k, t] = \\\n",
    "                    np.power(float(i) - float(k), 2) + np.power(float(j) - float(t), 2)\n",
    "                \n",
    "def distance_matrix(xt, yt, sigmat):\n",
    "    dm = precomputed_distances[xt, yt, :, :]\n",
    "    de = 2.0 * np.power(sigmat, 2)\n",
    "    return np.exp(-dm / de)"
   ]
  },
  {
   "cell_type": "code",
   "execution_count": null,
   "metadata": {},
   "outputs": [],
   "source": [
    "sequence = np.arange(0, X.shape[0])\n",
    "t = 0\n",
    "for e in range(nb_iterations):\n",
    "    np.random.shuffle(sequence)\n",
    "    t += 1\n",
    "    if e < nb_startup_iterations:\n",
    "        etat = eta(t)\n",
    "        sigmat = sigma(t)\n",
    "    else:\n",
    "        etat = 0.2\n",
    "        sigmat = 1.0\n",
    "    for n in sequence:\n",
    "        x_sample = X[n]\n",
    "\n",
    "        xw, yw = winning_unit(x_sample)\n",
    "        dm = distance_matrix(xw, yw, sigmat)\n",
    "\n",
    "        dW = etat * np.expand_dims(dm, axis=2) * (x_sample - W)\n",
    "        W += dW\n",
    "        W /= np.linalg.norm(W, axis=2).reshape((matrix_side, matrix_side, 1))"
   ]
  },
  {
   "cell_type": "code",
   "execution_count": null,
   "metadata": {},
   "outputs": [],
   "source": [
    "W"
   ]
  },
  {
   "cell_type": "code",
   "execution_count": null,
   "metadata": {},
   "outputs": [],
   "source": []
  }
 ],
 "metadata": {
  "kernelspec": {
   "display_name": "Python 3",
   "language": "python",
   "name": "python3"
  },
  "language_info": {
   "codemirror_mode": {
    "name": "ipython",
    "version": 3
   },
   "file_extension": ".py",
   "mimetype": "text/x-python",
   "name": "python",
   "nbconvert_exporter": "python",
   "pygments_lexer": "ipython3",
   "version": "3.6.6"
  }
 },
 "nbformat": 4,
 "nbformat_minor": 2
}
